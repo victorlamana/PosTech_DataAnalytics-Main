{
 "cells": [
  {
   "cell_type": "code",
   "execution_count": null,
   "metadata": {},
   "outputs": [],
   "source": [
    "from pyspark.sql import SparkSession\n",
    "from pyspark.sql.functions import col"
   ]
  },
  {
   "cell_type": "code",
   "execution_count": null,
   "metadata": {},
   "outputs": [],
   "source": [
    "spark = SparkSession.builder     .appName(\"Exemplos PySpark\")     .getOrCreate()\n",
    "\n",
    "\n",
    "# Carregar dados de um arquivo CSV\n",
    "df = spark.read.csv(\"/arquivo_teste.csv\", header=True, inferSchema=True)\n",
    "\n",
    "# Exibir o schema do DataFrame\n",
    "df.printSchema()\n",
    "\n",
    "# Selecionar colunas específicas\n",
    "df_selected = df.select(\"coluna1\", \"coluna2\")\n",
    "\n",
    "# Filtrar registros com base em uma condição\n",
    "df_filtered = df.filter(col(\"coluna3\") > 100)\n",
    "\n",
    "# Adicionar uma nova coluna calculada\n",
    "df_with_new_column = df.withColumn(\"nova_coluna\", col(\"coluna1\") * 2)\n",
    "\n",
    "# Renomear uma coluna\n",
    "df_renamed_column = df.withColumnRenamed(\"coluna1\", \"novo_nome_coluna\")"
   ]
  },
  {
   "cell_type": "code",
   "execution_count": null,
   "metadata": {},
   "outputs": [],
   "source": [
    "spark = SparkSession.builder     .appName(\"Exemplos PySpark\")     .getOrCreate()\n",
    "\n",
    "# Carregar dados de um arquivo CSV\n",
    "df = spark.read.csv(\"/arquivo_teste.csv\", header=True, inferSchema=True)"
   ]
  },
  {
   "cell_type": "code",
   "execution_count": null,
   "metadata": {},
   "outputs": [],
   "source": [
    "# Contar o número total de registros\n",
    "count = df.count()\n",
    "print(\"Número total de registros: \", count)\n",
    "\n",
    "# Exibir uma amostra dos dados\n",
    "df_sample = df.sample(fraction=0.1, seed=42)\n",
    "df_sample.show()\n",
    "\n",
    "# Calcular a média de uma coluna\n",
    "average = df.select(\"coluna1\").groupBy().avg().collect()[0][0]\n",
    "print(\"Média da coluna1: \", average)\n",
    "\n",
    "# Salvar o DataFrame em um arquivo CSV\n",
    "df.write.csv(\"/arquivo_teste.csv\", header=True)"
   ]
  }
 ],
 "metadata": {
  "language_info": {
   "name": "python"
  }
 },
 "nbformat": 4,
 "nbformat_minor": 2
}
