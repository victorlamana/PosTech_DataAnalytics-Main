{
  "cells": [
    {
      "cell_type": "code",
      "execution_count": 1,
      "metadata": {
        "id": "oxBFDVCi1Nu4"
      },
      "outputs": [],
      "source": [
        "import scipy\n",
        "from scipy import stats\n",
        "import numpy as np"
      ]
    },
    {
      "cell_type": "code",
      "execution_count": 2,
      "metadata": {
        "colab": {
          "base_uri": "https://localhost:8080/"
        },
        "id": "86jZA7wC1_mR",
        "outputId": "f7344d12-10b6-4710-e151-d4f407452266"
      },
      "outputs": [
        {
          "name": "stdout",
          "output_type": "stream",
          "text": [
            "[[ 8  0  3  4  6]\n",
            " [ 5  6  1  8  9]\n",
            " [ 8  0  0  5 10]]\n"
          ]
        }
      ],
      "source": [
        "#criação dos dados que vamos utilizar\n",
        "matrix = np.array([[8,0,3,4,6],[5,6,1,8,9],[8,0,0,5,10]])\n",
        "novoUser = [8,0,2,3,0]\n",
        "nao_assistidos = [0,1,0,0,1]\n",
        "print(matrix)\n",
        "nomeFilmes= ['Round 6',  'A Invocação do Mal','9 Desconhecidos','You' ,'La Casa de Papel']"
      ]
    },
    {
      "cell_type": "code",
      "execution_count": 3,
      "metadata": {
        "colab": {
          "base_uri": "https://localhost:8080/"
        },
        "id": "hNxFha9q2NX_",
        "outputId": "785a08bb-c7b4-462c-a715-b92391faae81"
      },
      "outputs": [
        {
          "name": "stdout",
          "output_type": "stream",
          "text": [
            "8\n",
            "5\n",
            "[5 6 1 8 9]\n",
            "user: 0\n",
            "[8, 3, 4] [8, 2, 3]\n",
            "user: 1\n",
            "[5, 1, 8] [8, 2, 3]\n",
            "user: 2\n",
            "[8, 0, 5] [8, 2, 3]\n",
            "\n",
            "[0.9994237971287663, 0.23621543814299698, 0.8723686098443353]\n"
          ]
        }
      ],
      "source": [
        "#criando um vetor com 3 posições e preencher com zero (vamos colocar os valores da similaridade entre o novoUser e cada outro usuário da matriz )\n",
        "similarity =[0] * 3\n",
        "print(matrix[0][0])\n",
        "print(matrix[1][0])\n",
        "print(matrix[1,:])\n",
        "#para cada usuário no sistema...\n",
        "for i in range(0,3):\n",
        "  #vamos pegar os dados desse usuário\n",
        "  temp = matrix[i,:]\n",
        "\n",
        "  #MAS QUEREMOS APENAS COMPARAR OS DADOS QUE O NOVO USER ASSISTIU (OU SEJA... QUE NOVOUSER != 0)\n",
        "  tempUser= [t for n,t in zip(novoUser,temp) if n != 0]\n",
        "  tempNovoUser= [n for n in novoUser if n != 0]\n",
        "\n",
        "  #para verificar o processo\n",
        "  print('user:',i)\n",
        "  print(tempUser, tempNovoUser)\n",
        "\n",
        "  #vamos usar a biblioteca scipy.stats que ja calcula o pearson!!!\n",
        "  similarity[i] = scipy.stats.pearsonr(tempUser,tempNovoUser)[0] #a função retorna dois valores e o primeiro é o coefieciente de pearson\n",
        "print()\n",
        "\n",
        "print(similarity)"
      ]
    },
    {
      "cell_type": "code",
      "execution_count": 4,
      "metadata": {
        "colab": {
          "base_uri": "https://localhost:8080/"
        },
        "id": "gPh72qUV3S4w",
        "outputId": "d11df6d1-7ac4-43bc-821f-3d276e374274"
      },
      "outputs": [
        {
          "name": "stdout",
          "output_type": "stream",
          "text": [
            "nota_peso[ 0 ][ 0 ] = , nao_assistidos[ 0 ], * ,matrix[ 0 ][ 0 ], * similarity[ 0 ]\n",
            "nota_peso[ 0 ][ 0 ] =  0  *  8  *  0.9994237971287663\n",
            "nota_peso[ 0 ][ 1 ] = , nao_assistidos[ 1 ], * ,matrix[ 0 ][ 1 ], * similarity[ 0 ]\n",
            "nota_peso[ 0 ][ 1 ] =  1  *  0  *  0.9994237971287663\n",
            "nota_peso[ 0 ][ 2 ] = , nao_assistidos[ 2 ], * ,matrix[ 0 ][ 2 ], * similarity[ 0 ]\n",
            "nota_peso[ 0 ][ 2 ] =  0  *  3  *  0.9994237971287663\n",
            "nota_peso[ 0 ][ 3 ] = , nao_assistidos[ 3 ], * ,matrix[ 0 ][ 3 ], * similarity[ 0 ]\n",
            "nota_peso[ 0 ][ 3 ] =  0  *  4  *  0.9994237971287663\n",
            "nota_peso[ 0 ][ 4 ] = , nao_assistidos[ 4 ], * ,matrix[ 0 ][ 4 ], * similarity[ 0 ]\n",
            "nota_peso[ 0 ][ 4 ] =  1  *  6  *  0.9994237971287663\n",
            "nota_peso[ 1 ][ 0 ] = , nao_assistidos[ 0 ], * ,matrix[ 1 ][ 0 ], * similarity[ 1 ]\n",
            "nota_peso[ 1 ][ 0 ] =  0  *  5  *  0.23621543814299698\n",
            "nota_peso[ 1 ][ 1 ] = , nao_assistidos[ 1 ], * ,matrix[ 1 ][ 1 ], * similarity[ 1 ]\n",
            "nota_peso[ 1 ][ 1 ] =  1  *  6  *  0.23621543814299698\n",
            "nota_peso[ 1 ][ 2 ] = , nao_assistidos[ 2 ], * ,matrix[ 1 ][ 2 ], * similarity[ 1 ]\n",
            "nota_peso[ 1 ][ 2 ] =  0  *  1  *  0.23621543814299698\n",
            "nota_peso[ 1 ][ 3 ] = , nao_assistidos[ 3 ], * ,matrix[ 1 ][ 3 ], * similarity[ 1 ]\n",
            "nota_peso[ 1 ][ 3 ] =  0  *  8  *  0.23621543814299698\n",
            "nota_peso[ 1 ][ 4 ] = , nao_assistidos[ 4 ], * ,matrix[ 1 ][ 4 ], * similarity[ 1 ]\n",
            "nota_peso[ 1 ][ 4 ] =  1  *  9  *  0.23621543814299698\n",
            "nota_peso[ 2 ][ 0 ] = , nao_assistidos[ 0 ], * ,matrix[ 2 ][ 0 ], * similarity[ 2 ]\n",
            "nota_peso[ 2 ][ 0 ] =  0  *  8  *  0.8723686098443353\n",
            "nota_peso[ 2 ][ 1 ] = , nao_assistidos[ 1 ], * ,matrix[ 2 ][ 1 ], * similarity[ 2 ]\n",
            "nota_peso[ 2 ][ 1 ] =  1  *  0  *  0.8723686098443353\n",
            "nota_peso[ 2 ][ 2 ] = , nao_assistidos[ 2 ], * ,matrix[ 2 ][ 2 ], * similarity[ 2 ]\n",
            "nota_peso[ 2 ][ 2 ] =  0  *  0  *  0.8723686098443353\n",
            "nota_peso[ 2 ][ 3 ] = , nao_assistidos[ 3 ], * ,matrix[ 2 ][ 3 ], * similarity[ 2 ]\n",
            "nota_peso[ 2 ][ 3 ] =  0  *  5  *  0.8723686098443353\n",
            "nota_peso[ 2 ][ 4 ] = , nao_assistidos[ 4 ], * ,matrix[ 2 ][ 4 ], * similarity[ 2 ]\n",
            "nota_peso[ 2 ][ 4 ] =  1  *  10  *  0.8723686098443353\n",
            "[[0.         0.         0.         0.         5.99654278]\n",
            " [0.         1.41729263 0.         0.         2.12593894]\n",
            " [0.         0.         0.         0.         8.7236861 ]]\n"
          ]
        }
      ],
      "source": [
        "nota_peso = np.zeros((3,5))\n",
        "\n",
        "for nUser in range(3):\n",
        "  for nFilme in range(5):\n",
        "    print('nota_peso[',nUser, '][',nFilme, '] = , nao_assistidos[',nFilme, '], * ,matrix[',nUser,'][',nFilme, '], * similarity[',nUser,']')\n",
        "    print('nota_peso[',nUser, '][',nFilme, '] = ', nao_assistidos[nFilme], ' * ' ,matrix[nUser][nFilme], ' * ', similarity[nUser])\n",
        "    nota_peso[nUser][nFilme] = nao_assistidos[nFilme] * matrix[nUser][nFilme] * similarity[nUser]\n",
        "\n",
        "print(nota_peso)"
      ]
    },
    {
      "cell_type": "code",
      "execution_count": 7,
      "metadata": {
        "colab": {
          "base_uri": "https://localhost:8080/"
        },
        "id": "axa5E1p35mUz",
        "outputId": "43c5a98f-19c3-4646-ce53-b97200e186b0"
      },
      "outputs": [
        {
          "name": "stdout",
          "output_type": "stream",
          "text": [
            "[ 0.          1.41729263  0.          0.         16.84616782]\n"
          ]
        }
      ],
      "source": [
        "notas_acumuladas = np.sum(nota_peso.T,axis=1)\n",
        "print(notas_acumuladas)"
      ]
    },
    {
      "cell_type": "code",
      "execution_count": 8,
      "metadata": {
        "colab": {
          "base_uri": "https://localhost:8080/"
        },
        "id": "oumiyWnZ6829",
        "outputId": "2a716386-2e90-4392-d50b-544eddfe0a41"
      },
      "outputs": [
        {
          "name": "stdout",
          "output_type": "stream",
          "text": [
            "[[0. 0. 0. 0. 1.]\n",
            " [0. 1. 0. 0. 1.]\n",
            " [0. 0. 0. 0. 1.]]\n",
            "[[0.         0.         0.         0.         0.9994238 ]\n",
            " [0.         0.23621544 0.         0.         0.23621544]\n",
            " [0.         0.         0.         0.         0.87236861]]\n",
            "[0.         0.23621544 0.         0.         2.10800785]\n"
          ]
        }
      ],
      "source": [
        "temp_peso = nota_peso\n",
        "temp_peso[nota_peso > 0] = 1\n",
        "print(temp_peso)\n",
        "temp_similaridade = np.zeros((3,5))\n",
        "for nUser in range(3):\n",
        "  for nFilme in range(5):\n",
        "    temp_similaridade[nUser][nFilme] = temp_peso[nUser][nFilme] * similarity[nUser]\n",
        "\n",
        "print(temp_similaridade)\n",
        "\n",
        "similaridade_acumulada = np.sum(temp_similaridade.T,axis=1)\n",
        "print(similaridade_acumulada)"
      ]
    },
    {
      "cell_type": "code",
      "execution_count": 9,
      "metadata": {
        "colab": {
          "base_uri": "https://localhost:8080/"
        },
        "id": "elwWtU1-7NV-",
        "outputId": "d01a4ef8-787b-4b48-90e6-c997d6a9ec56"
      },
      "outputs": [
        {
          "name": "stdout",
          "output_type": "stream",
          "text": [
            "[0, 6.0, 0, 0, 7.991510972567143]\n"
          ]
        }
      ],
      "source": [
        "nota_final =[0] * 5\n",
        "#agora a normalização para cada filme com nota acumulada, eu normalizo pela soma dos pesos (similaridade)\n",
        "for nFilme in range(5):\n",
        "  if(similaridade_acumulada[nFilme] > 0):\n",
        "    nota_final[nFilme] =  notas_acumuladas[nFilme] / similaridade_acumulada[nFilme]\n",
        "  else:\n",
        "    nota_final[nFilme] = 0\n",
        "\n",
        "print(nota_final)"
      ]
    },
    {
      "cell_type": "code",
      "execution_count": 10,
      "metadata": {
        "colab": {
          "base_uri": "https://localhost:8080/"
        },
        "id": "sM3NxNHO7ref",
        "outputId": "11b8e07e-138c-4ae1-bad0-98d7079af517"
      },
      "outputs": [
        {
          "name": "stdout",
          "output_type": "stream",
          "text": [
            "[4, 1]\n",
            "La Casa de Papel nota:  7.991510972567143\n",
            "A Invocação do Mal nota:  6.0\n"
          ]
        }
      ],
      "source": [
        "nAssistidos = sum(nao_assistidos)\n",
        "\n",
        "notasOrdenadasIndex = sorted(range(len(nota_final)),key=nota_final.__getitem__)[::-1][0:nAssistidos]\n",
        "print(notasOrdenadasIndex)\n",
        "\n",
        "for i in notasOrdenadasIndex:\n",
        "  print(nomeFilmes[i], 'nota: ', nota_final[i])"
      ]
    },
    {
      "cell_type": "code",
      "execution_count": null,
      "metadata": {
        "id": "vbPRONH679nV"
      },
      "outputs": [],
      "source": []
    }
  ],
  "metadata": {
    "colab": {
      "provenance": []
    },
    "kernelspec": {
      "display_name": "Python 3",
      "name": "python3"
    },
    "language_info": {
      "codemirror_mode": {
        "name": "ipython",
        "version": 3
      },
      "file_extension": ".py",
      "mimetype": "text/x-python",
      "name": "python",
      "nbconvert_exporter": "python",
      "pygments_lexer": "ipython3",
      "version": "3.9.5"
    }
  },
  "nbformat": 4,
  "nbformat_minor": 0
}
