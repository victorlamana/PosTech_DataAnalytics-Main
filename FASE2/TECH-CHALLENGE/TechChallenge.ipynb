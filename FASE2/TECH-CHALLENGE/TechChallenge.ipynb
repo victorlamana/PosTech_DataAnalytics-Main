{
 "cells": [
  {
   "cell_type": "code",
   "execution_count": 6,
   "metadata": {},
   "outputs": [
    {
     "name": "stderr",
     "output_type": "stream",
     "text": [
      "e:\\conda\\env\\lamanv\\project1\\lib\\site-packages\\tqdm\\auto.py:21: TqdmWarning: IProgress not found. Please update jupyter and ipywidgets. See https://ipywidgets.readthedocs.io/en/stable/user_install.html\n",
      "  from .autonotebook import tqdm as notebook_tqdm\n"
     ]
    }
   ],
   "source": [
    "import pandas as pd\n",
    "from prophet import Prophet\n",
    "import matplotlib.pyplot as plt"
   ]
  },
  {
   "cell_type": "code",
   "execution_count": null,
   "metadata": {},
   "outputs": [],
   "source": [
    "# Carregando os dados\n",
    "data = pd.read_csv('caminho/do/seu/arquivo.csv')\n",
    "\n",
    "# Renomeando as colunas conforme o esperado pelo Prophet\n",
    "data = data.rename(columns={'Date': 'ds', 'Close': 'y'})\n",
    "\n",
    "# Criando e treinando o modelo\n",
    "model = Prophet()\n",
    "model.fit(data)\n",
    "\n",
    "# Criando um DataFrame com datas futuras para prever\n",
    "future = model.make_future_dataframe(periods=365)  # Estendendo o período em 365 dias\n",
    "\n",
    "# Fazendo previsões\n",
    "forecast = model.predict(future)\n",
    "\n",
    "# Visualizando as previsões\n",
    "fig = model.plot(forecast)\n",
    "plt.show()"
   ]
  }
 ],
 "metadata": {
  "kernelspec": {
   "display_name": "project1",
   "language": "python",
   "name": "python3"
  },
  "language_info": {
   "codemirror_mode": {
    "name": "ipython",
    "version": 3
   },
   "file_extension": ".py",
   "mimetype": "text/x-python",
   "name": "python",
   "nbconvert_exporter": "python",
   "pygments_lexer": "ipython3",
   "version": "3.9.18"
  }
 },
 "nbformat": 4,
 "nbformat_minor": 2
}
