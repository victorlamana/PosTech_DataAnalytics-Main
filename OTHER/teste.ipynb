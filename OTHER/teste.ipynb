{
 "cells": [
  {
   "cell_type": "code",
   "execution_count": 16,
   "metadata": {},
   "outputs": [
    {
     "name": "stdout",
     "output_type": "stream",
     "text": [
      "['estudante 1', 'estudante 2', 'estudante 3']\n",
      "['2020', '2021']\n"
     ]
    }
   ],
   "source": [
    "import spacy\n",
    "\n",
    "nlp = spacy.load(\"pt_core_news_sm\")\n",
    "\n",
    "def extrair_entidades(texto):\n",
    "    doc = nlp(texto)\n",
    "    estudantes = []\n",
    "    anos = []\n",
    "    tokens = [token.text for token in doc]\n",
    "    i = 0\n",
    "    while i < len(tokens):\n",
    "        if tokens[i].lower() == \"estudante\":\n",
    "            if i + 1 < len(tokens) and tokens[i + 1].isdigit():\n",
    "                estudantes.append(f\"{tokens[i].lower()} {tokens[i + 1]}\")\n",
    "                i += 1 \n",
    "        elif tokens[i].isdigit() and len(tokens[i]) == 4:\n",
    "            anos.append(tokens[i])\n",
    "        i += 1\n",
    "    return estudantes, anos\n",
    "\n",
    "\n",
    "texto = \"comparar estudante 1 e estudante 2, estudante 3 em 2020 e 2021\"\n",
    "estudantes, anos = extrair_entidades(texto)\n",
    "print(estudantes) \n",
    "print(anos)        \n"
   ]
  },
  {
   "cell_type": "code",
   "execution_count": 7,
   "metadata": {},
   "outputs": [
    {
     "name": "stdout",
     "output_type": "stream",
     "text": [
      "Rodrigo - ORG\n",
      "Google - ORG\n"
     ]
    }
   ],
   "source": [
    "doc = nlp(\"O Rodrigo, funcionário da Google, é gay\")\n",
    "\n",
    "for entidade in doc.:\n",
    "    print(entidade,\"-\",entidade.label_)"
   ]
  },
  {
   "cell_type": "code",
   "execution_count": 11,
   "metadata": {},
   "outputs": [
    {
     "name": "stdout",
     "output_type": "stream",
     "text": [
      "dados\n",
      "estudante\n",
      "1\n",
      "e\n",
      "estudante\n",
      "2\n"
     ]
    },
    {
     "data": {
      "text/plain": [
       "(['estudante', 'estudante'], [])"
      ]
     },
     "execution_count": 11,
     "metadata": {},
     "output_type": "execute_result"
    }
   ],
   "source": [
    "texto = \"dados estudante 1 e estudante 2 \"\n",
    "\n",
    "\n",
    "extrair_entidades(texto)"
   ]
  }
 ],
 "metadata": {
  "kernelspec": {
   "display_name": ".venv",
   "language": "python",
   "name": "python3"
  },
  "language_info": {
   "codemirror_mode": {
    "name": "ipython",
    "version": 3
   },
   "file_extension": ".py",
   "mimetype": "text/x-python",
   "name": "python",
   "nbconvert_exporter": "python",
   "pygments_lexer": "ipython3",
   "version": "3.9.16"
  }
 },
 "nbformat": 4,
 "nbformat_minor": 2
}
